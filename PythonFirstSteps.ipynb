{
 "cells": [
  {
   "cell_type": "code",
   "execution_count": 3,
   "metadata": {},
   "outputs": [
    {
     "name": "stdout",
     "output_type": "stream",
     "text": [
      "Hello Divya\n"
     ]
    }
   ],
   "source": [
    "My_name = \"Divya\"\n",
    "Hello_Stmt = \"Hello \" + My_name\n",
    "print(Hello_Stmt)"
   ]
  },
  {
   "cell_type": "code",
   "execution_count": 9,
   "metadata": {},
   "outputs": [
    {
     "name": "stdout",
     "output_type": "stream",
     "text": [
      "frst = 1    scnd = 6\n",
      "frst = 2    scnd = 8\n",
      "frst = 3    scnd = 11\n",
      "frst = 4    scnd = 15\n"
     ]
    }
   ],
   "source": [
    "frst = 5\n",
    "for scnd in range(1, 5) :\n",
    "    frst = frst + scnd\n",
    "    print(\"frst = {0}    scnd = {1}\".format(scnd, frst))"
   ]
  },
  {
   "cell_type": "code",
   "execution_count": null,
   "metadata": {},
   "outputs": [],
   "source": []
  }
 ],
 "metadata": {
  "kernelspec": {
   "display_name": "Python 3",
   "language": "python",
   "name": "python3"
  },
  "language_info": {
   "codemirror_mode": {
    "name": "ipython",
    "version": 3
   },
   "file_extension": ".py",
   "mimetype": "text/x-python",
   "name": "python",
   "nbconvert_exporter": "python",
   "pygments_lexer": "ipython3",
   "version": "3.7.4"
  }
 },
 "nbformat": 4,
 "nbformat_minor": 2
}
